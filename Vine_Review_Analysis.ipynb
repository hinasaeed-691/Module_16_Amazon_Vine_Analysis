{
  "cells": [
    {
      "cell_type": "code",
      "execution_count": 1,
      "metadata": {
        "colab": {
          "base_uri": "https://localhost:8080/"
        },
        "id": "CDE-akKUdriZ",
        "outputId": "19c112f5-68f2-4b74-b078-c0e9b047df29"
      },
      "outputs": [
        {
          "name": "stdout",
          "output_type": "stream",
          "text": [
            "\r0% [Working]\r            \rGet:1 http://security.ubuntu.com/ubuntu bionic-security InRelease [88.7 kB]\n",
            "\r0% [Connecting to archive.ubuntu.com (185.125.190.39)] [1 InRelease 14.2 kB/88.\r                                                                               \rHit:2 https://developer.download.nvidia.com/compute/cuda/repos/ubuntu1804/x86_64  InRelease\n",
            "Get:3 https://cloud.r-project.org/bin/linux/ubuntu bionic-cran40/ InRelease [3,626 B]\n",
            "Ign:4 https://developer.download.nvidia.com/compute/machine-learning/repos/ubuntu1804/x86_64  InRelease\n",
            "Hit:5 http://ppa.launchpad.net/c2d4u.team/c2d4u4.0+/ubuntu bionic InRelease\n",
            "Hit:6 http://archive.ubuntu.com/ubuntu bionic InRelease\n",
            "Hit:7 https://developer.download.nvidia.com/compute/machine-learning/repos/ubuntu1804/x86_64  Release\n",
            "Get:8 http://archive.ubuntu.com/ubuntu bionic-updates InRelease [88.7 kB]\n",
            "Hit:9 http://ppa.launchpad.net/cran/libgit2/ubuntu bionic InRelease\n",
            "Hit:10 http://ppa.launchpad.net/deadsnakes/ppa/ubuntu bionic InRelease\n",
            "Get:11 http://archive.ubuntu.com/ubuntu bionic-backports InRelease [74.6 kB]\n",
            "Hit:12 http://ppa.launchpad.net/graphics-drivers/ppa/ubuntu bionic InRelease\n",
            "Get:13 http://security.ubuntu.com/ubuntu bionic-security/restricted amd64 Packages [1,013 kB]\n",
            "Get:14 http://security.ubuntu.com/ubuntu bionic-security/multiverse amd64 Packages [22.8 kB]\n",
            "Get:15 http://security.ubuntu.com/ubuntu bionic-security/main amd64 Packages [2,866 kB]\n",
            "Get:16 http://security.ubuntu.com/ubuntu bionic-security/universe amd64 Packages [1,521 kB]\n",
            "Get:18 http://archive.ubuntu.com/ubuntu bionic-updates/universe amd64 Packages [2,297 kB]\n",
            "Get:19 http://archive.ubuntu.com/ubuntu bionic-updates/main amd64 Packages [3,298 kB]\n",
            "Get:20 http://archive.ubuntu.com/ubuntu bionic-updates/multiverse amd64 Packages [29.8 kB]\n",
            "Get:21 http://archive.ubuntu.com/ubuntu bionic-updates/restricted amd64 Packages [1,047 kB]\n",
            "Get:22 http://archive.ubuntu.com/ubuntu bionic-backports/main amd64 Packages [12.2 kB]\n",
            "Fetched 12.4 MB in 6s (2,141 kB/s)\n",
            "Reading package lists... Done\n"
          ]
        }
      ],
      "source": [
        "import os\n",
        "# Find the latest version of spark 3.0  from http://www.apache.org/dist/spark/ and enter as the spark version\n",
        "# For example:\n",
        "# spark_version = 'spark-3.0.3'\n",
        "spark_version = 'spark-3.0.3'\n",
        "os.environ['SPARK_VERSION']=spark_version\n",
        "\n",
        "# Install Spark and Java\n",
        "!apt-get update\n",
        "!apt-get install openjdk-11-jdk-headless -qq > /dev/null\n",
        "!wget -q http://www.apache.org/dist/spark/$SPARK_VERSION/$SPARK_VERSION-bin-hadoop2.7.tgz\n",
        "!tar xf $SPARK_VERSION-bin-hadoop2.7.tgz\n",
        "!pip install -q findspark\n",
        "\n",
        "# Set Environment Variables\n",
        "import os\n",
        "os.environ[\"JAVA_HOME\"] = \"/usr/lib/jvm/java-11-openjdk-amd64\"\n",
        "os.environ[\"SPARK_HOME\"] = f\"/content/{spark_version}-bin-hadoop2.7\"\n",
        "\n",
        "# Start a SparkSession\n",
        "import findspark\n",
        "findspark.init()"
      ]
    },
    {
      "cell_type": "code",
      "execution_count": 3,
      "metadata": {
        "colab": {
          "base_uri": "https://localhost:8080/"
        },
        "id": "PT1nUlYBd0kP",
        "outputId": "615864ba-eabb-4ad9-9a1e-1ec8e1eb4a49"
      },
      "outputs": [
        {
          "name": "stdout",
          "output_type": "stream",
          "text": [
            "Looking in indexes: https://pypi.org/simple, https://us-python.pkg.dev/colab-wheels/public/simple/\n",
            "Collecting ipython-autotime\n",
            "  Downloading ipython_autotime-0.3.1-py2.py3-none-any.whl (6.8 kB)\n",
            "Requirement already satisfied: ipython in /usr/local/lib/python3.7/dist-packages (from ipython-autotime) (5.5.0)\n",
            "Requirement already satisfied: traitlets>=4.2 in /usr/local/lib/python3.7/dist-packages (from ipython->ipython-autotime) (5.1.1)\n",
            "Requirement already satisfied: pexpect in /usr/local/lib/python3.7/dist-packages (from ipython->ipython-autotime) (4.8.0)\n",
            "Requirement already satisfied: decorator in /usr/local/lib/python3.7/dist-packages (from ipython->ipython-autotime) (4.4.2)\n",
            "Requirement already satisfied: prompt-toolkit<2.0.0,>=1.0.4 in /usr/local/lib/python3.7/dist-packages (from ipython->ipython-autotime) (1.0.18)\n",
            "Requirement already satisfied: setuptools>=18.5 in /usr/local/lib/python3.7/dist-packages (from ipython->ipython-autotime) (57.4.0)\n",
            "Requirement already satisfied: simplegeneric>0.8 in /usr/local/lib/python3.7/dist-packages (from ipython->ipython-autotime) (0.8.1)\n",
            "Requirement already satisfied: pygments in /usr/local/lib/python3.7/dist-packages (from ipython->ipython-autotime) (2.6.1)\n",
            "Requirement already satisfied: pickleshare in /usr/local/lib/python3.7/dist-packages (from ipython->ipython-autotime) (0.7.5)\n",
            "Requirement already satisfied: wcwidth in /usr/local/lib/python3.7/dist-packages (from prompt-toolkit<2.0.0,>=1.0.4->ipython->ipython-autotime) (0.2.5)\n",
            "Requirement already satisfied: six>=1.9.0 in /usr/local/lib/python3.7/dist-packages (from prompt-toolkit<2.0.0,>=1.0.4->ipython->ipython-autotime) (1.15.0)\n",
            "Requirement already satisfied: ptyprocess>=0.5 in /usr/local/lib/python3.7/dist-packages (from pexpect->ipython->ipython-autotime) (0.7.0)\n",
            "Installing collected packages: ipython-autotime\n",
            "Successfully installed ipython-autotime-0.3.1\n",
            "time: 225 µs (started: 2022-06-26 05:24:53 +00:00)\n"
          ]
        }
      ],
      "source": [
        "!pip install ipython-autotime\n",
        "%load_ext autotime"
      ]
    },
    {
      "cell_type": "markdown",
      "metadata": {
        "id": "emfiIHRGeG2O"
      },
      "source": [
        "## Open Spark Session"
      ]
    },
    {
      "cell_type": "code",
      "execution_count": 4,
      "metadata": {
        "colab": {
          "base_uri": "https://localhost:8080/"
        },
        "id": "6A4fD6fid36i",
        "outputId": "15636c12-66f7-4448-a70c-2211b2240dc1"
      },
      "outputs": [
        {
          "name": "stdout",
          "output_type": "stream",
          "text": [
            "time: 8.57 s (started: 2022-06-26 05:25:29 +00:00)\n"
          ]
        }
      ],
      "source": [
        "from pyspark.sql import SparkSession\n",
        "spark = SparkSession.builder.appName(\"Vine_Reviews\").getOrCreate()\n",
        "\n"
      ]
    },
    {
      "cell_type": "code",
      "execution_count": 5,
      "metadata": {
        "colab": {
          "base_uri": "https://localhost:8080/"
        },
        "id": "voM7Lj9peNt6",
        "outputId": "17141460-0a29-4853-a69c-f67cc3348d56"
      },
      "outputs": [
        {
          "name": "stdout",
          "output_type": "stream",
          "text": [
            "+-----------+-----------+--------------+----------+--------------+--------------------+----------------+-----------+-------------+-----------+----+-----------------+--------------------+--------------------+-----------+\n",
            "|marketplace|customer_id|     review_id|product_id|product_parent|       product_title|product_category|star_rating|helpful_votes|total_votes|vine|verified_purchase|     review_headline|         review_body|review_date|\n",
            "+-----------+-----------+--------------+----------+--------------+--------------------+----------------+-----------+-------------+-----------+----+-----------------+--------------------+--------------------+-----------+\n",
            "|         US|   33670092|R1UUISQ1GKOJTI|B00EE62UAE|     583436067|Trademark Home Po...|            Home|          1|            0|          0|   N|                Y|                 Run|Don't buy it clap...| 2015-08-31|\n",
            "|         US|   13726692|R1HOJ9WE8VCVOD|B001APXO5C|     465035091|O2-Cool 10-Inch P...|            Home|          5|            9|          9|   N|                Y|Love it, really c...|Love this ,I boug...| 2015-08-31|\n",
            "|         US|   50131396| RDNGVXMWQN2TN|B002HFDLCK|     136507891|Hoover Vacuum Cle...|            Home|          5|            0|          0|   N|                Y|          Five Stars|Nice style, color...| 2015-08-31|\n",
            "|         US|   16046884|R3OM9COQMVTDJ2|B00PL9EFPQ|     631238459|Banksy Pile of Ri...|            Home|          2|            0|          0|   N|                Y|Love Banksy's wor...|Meeeh. Love Banks...| 2015-08-31|\n",
            "|         US|   11417282|R3OFUQVR4Y80Q9|B00B5TPVQS|     190431573|SkyScan Atomic Wa...|            Home|          4|            0|          0|   N|                N|A silent second h...|Review by John Cr...| 2015-08-31|\n",
            "|         US|   48013430|R2GD25SBBGRKPO|B00NQDGHDC|     124050883|Mellanni Bed Shee...|            Home|          5|            0|          0|   N|                Y|I am very pleased...|I am very pleased...| 2015-08-31|\n",
            "|         US|    7341516|R3RRSLYKVWH9WB|B00I3BYEXM|     933053612|Hippie Hobo Sling...|            Home|          5|            0|          0|   N|                Y|          Five Stars|LOVE THIS SO VERY...| 2015-08-31|\n",
            "|         US|   20696954|R2HMFAGJJU6NT3|B008QZD7RY|      77515396|OluKai Hokua Sand...|            Home|          5|            0|          0|   N|                Y|          Five Stars|           Love them| 2015-08-31|\n",
            "|         US|   28241302|R2QDRZATHBY4GY|B00TQ6MXE0|     267158600|Melrose Ivory Ant...|            Home|          1|            0|          0|   N|                Y|Not the color I e...|This is a nice sh...| 2015-08-31|\n",
            "|         US|   45444347|R107946YZK57Q2|B004O39RJ4|     473994651|Home Basics 6-Pie...|            Home|          2|            0|          0|   N|                Y|Two mugs came chi...|Two mugs came chi...| 2015-08-31|\n",
            "|         US|   15080335|R31EK6FUI5YAL1|B003LZ09C0|     945333576|La Crosse Technol...|            Home|          5|            0|          0|   N|                Y|          Five Stars|Works great, it a...| 2015-08-31|\n",
            "|         US|   12081067|R2PCO0R2FKDQLD|B00I56KQV4|     383995956|Cozy Beddings 3-P...|            Home|          5|            0|          0|   N|                Y|          Five Stars|Exactly as I expe...| 2015-08-31|\n",
            "|         US|   26317120|R3HR2Y7RR8NWL0|B00GS6ENAS|     255999883|Tools of the Trad...|            Home|          4|            0|          0|   N|                Y|          Four Stars|    met expectations| 2015-08-31|\n",
            "|         US|   37523392|R2D2NATNTV6VBD|B00S9X17SY|     142926812|Clara Clark Premi...|            Home|          3|            0|          0|   N|                Y|        Pretty color|Very silky feelin...| 2015-08-31|\n",
            "|         US|   36990227| RKB0AGB0GJ693|B001R1RXUG|     237680897|Honeywell HT-908 ...|            Home|          5|            0|          0|   N|                Y|          Five Stars|Works great for t...| 2015-08-31|\n",
            "|         US|    8273344| RN6VOEZIS9SRX|B008T19WSS|     395315543|2 pcs .925 Sterli...|            Home|          5|            0|          0|   N|                Y|          Five Stars|          love these| 2015-08-31|\n",
            "|         US|   45448526|R31I8XK53JBAQ2|B011A4X754|     751900773|Artficial Pachyve...|            Home|          4|            0|          0|   N|                Y|          Four Stars|Good length. Very...| 2015-08-31|\n",
            "|         US|   28088591|R2R2Y989GKB6QH|B00DDIKBQO|     764331420|Pinzon Blackout C...|            Home|          5|            0|          0|   N|                Y|          Five Stars|        Works great!| 2015-08-31|\n",
            "|         US|   20276397|R12WZKURAV2VEY|B00F3T165Q|     962537263|Rit Dye Liquid Dy...|            Home|          5|            0|          0|   N|                Y|            Love it!|Been using this f...| 2015-08-31|\n",
            "|         US|     123327| RX2EMR0I821HW|B006C6FC6S|     279696452|The Original Slee...|            Home|          2|            0|          0|   N|                Y|           Two Stars|Ehh. Not sure why...| 2015-08-31|\n",
            "+-----------+-----------+--------------+----------+--------------+--------------------+----------------+-----------+-------------+-----------+----+-----------------+--------------------+--------------------+-----------+\n",
            "only showing top 20 rows\n",
            "\n",
            "time: 1min 13s (started: 2022-06-26 05:26:02 +00:00)\n"
          ]
        }
      ],
      "source": [
        "### Load Data\n",
        "from pyspark import SparkFiles\n",
        "url = \"https://s3.amazonaws.com/amazon-reviews-pds/tsv/amazon_reviews_us_Home_v1_00.tsv.gz\"\n",
        "spark.sparkContext.addFile(url)\n",
        "df = spark.read.csv(SparkFiles.get(\"amazon_reviews_us_Home_v1_00.tsv.gz\"), sep=\"\\t\", header=True, inferSchema=True)\n",
        "df.show()"
      ]
    },
    {
      "cell_type": "markdown",
      "metadata": {
        "id": "uef8XLGafGb8"
      },
      "source": [
        "\n",
        "\n",
        "    \n",
        "    \n",
        "    \n",
        "    The data is filtered to create a DataFrame or table where there isn’t a Vine review (5 pt)\n",
        "    The total number of reviews, the number of 5-star reviews, and the percentage 5-star reviews are calculated for all Vine and non-Vine reviews (15 pt)\n"
      ]
    },
    {
      "cell_type": "code",
      "execution_count": 32,
      "metadata": {
        "colab": {
          "base_uri": "https://localhost:8080/"
        },
        "id": "oPY90o_FeVvm",
        "outputId": "e074584a-8e52-4a64-afa2-966af30e5e5f"
      },
      "outputs": [
        {
          "name": "stdout",
          "output_type": "stream",
          "text": [
            "+--------------+-----------+-------------+-----------+----+-----------------+\n",
            "|     review_id|star_rating|helpful_votes|total_votes|vine|verified_purchase|\n",
            "+--------------+-----------+-------------+-----------+----+-----------------+\n",
            "|R1UUISQ1GKOJTI|          1|            0|          0|   N|                Y|\n",
            "|R1HOJ9WE8VCVOD|          5|            9|          9|   N|                Y|\n",
            "| RDNGVXMWQN2TN|          5|            0|          0|   N|                Y|\n",
            "|R3OM9COQMVTDJ2|          2|            0|          0|   N|                Y|\n",
            "|R3OFUQVR4Y80Q9|          4|            0|          0|   N|                N|\n",
            "|R2GD25SBBGRKPO|          5|            0|          0|   N|                Y|\n",
            "|R3RRSLYKVWH9WB|          5|            0|          0|   N|                Y|\n",
            "|R2HMFAGJJU6NT3|          5|            0|          0|   N|                Y|\n",
            "|R2QDRZATHBY4GY|          1|            0|          0|   N|                Y|\n",
            "|R107946YZK57Q2|          2|            0|          0|   N|                Y|\n",
            "|R31EK6FUI5YAL1|          5|            0|          0|   N|                Y|\n",
            "|R2PCO0R2FKDQLD|          5|            0|          0|   N|                Y|\n",
            "|R3HR2Y7RR8NWL0|          4|            0|          0|   N|                Y|\n",
            "|R2D2NATNTV6VBD|          3|            0|          0|   N|                Y|\n",
            "| RKB0AGB0GJ693|          5|            0|          0|   N|                Y|\n",
            "| RN6VOEZIS9SRX|          5|            0|          0|   N|                Y|\n",
            "|R31I8XK53JBAQ2|          4|            0|          0|   N|                Y|\n",
            "|R2R2Y989GKB6QH|          5|            0|          0|   N|                Y|\n",
            "|R12WZKURAV2VEY|          5|            0|          0|   N|                Y|\n",
            "| RX2EMR0I821HW|          2|            0|          0|   N|                Y|\n",
            "+--------------+-----------+-------------+-----------+----+-----------------+\n",
            "only showing top 20 rows\n",
            "\n",
            "time: 252 ms (started: 2022-06-26 06:23:27 +00:00)\n"
          ]
        }
      ],
      "source": [
        "# There is a DataFrame or table for the vine_table data using one of three methods above (5 pt)\n",
        "vine_df = df.select([\"review_id\",\"star_rating\",\"helpful_votes\",\"total_votes\",\"vine\",\"verified_purchase\"]).dropna()\n",
        "vine_df.show()"
      ]
    },
    {
      "cell_type": "code",
      "execution_count": 33,
      "metadata": {
        "colab": {
          "base_uri": "https://localhost:8080/"
        },
        "id": "9XOn_DSTewVc",
        "outputId": "a039f3bf-171f-43ae-a859-186de89f7822"
      },
      "outputs": [
        {
          "name": "stdout",
          "output_type": "stream",
          "text": [
            "+--------------+-----------+-------------+-----------+----+-----------------+\n",
            "|     review_id|star_rating|helpful_votes|total_votes|vine|verified_purchase|\n",
            "+--------------+-----------+-------------+-----------+----+-----------------+\n",
            "|R27XX9MG7OWSSM|          5|           49|         51|   N|                Y|\n",
            "|R1I4IFDOW6IW9O|          3|           44|         47|   N|                Y|\n",
            "|R2LZAV3VMLGPGS|          3|           32|         33|   N|                Y|\n",
            "|R3FITR2BQI94RA|          5|           33|         38|   N|                Y|\n",
            "| RWYBT1R3KPD2M|          4|          142|        163|   N|                Y|\n",
            "| RE4023DS92U8H|          5|           26|         27|   N|                Y|\n",
            "|R25TLB0EXZ7DJZ|          5|           45|         46|   N|                Y|\n",
            "|R3BEQIBG1OQ7RT|          2|            3|         22|   N|                Y|\n",
            "|R1SQKXYWU7VMW1|          2|           23|         24|   N|                Y|\n",
            "| RUL6FPHYI15TA|          2|           62|         70|   N|                Y|\n",
            "|R1K2O880XPCW4V|          2|           26|         27|   N|                Y|\n",
            "|R2KA15AG14I5I5|          5|           72|         81|   N|                Y|\n",
            "|R3VCE57VVGPHHA|          5|           69|         71|   N|                Y|\n",
            "|R3GEWL61MS0MVE|          5|           23|         24|   N|                Y|\n",
            "|R1X06G0PTXOA61|          1|           28|         32|   N|                Y|\n",
            "|R3IC3894IEJK1S|          2|           32|         32|   N|                Y|\n",
            "|R2VB64562OSKEV|          1|            6|         24|   N|                N|\n",
            "|R2W1OMYJERBXJ1|          5|           20|         23|   Y|                N|\n",
            "|R2TNQ0ZPP5F8D5|          1|            6|         24|   N|                Y|\n",
            "|R17CIVFMQGURJZ|          5|           24|         28|   N|                Y|\n",
            "+--------------+-----------+-------------+-----------+----+-----------------+\n",
            "only showing top 20 rows\n",
            "\n",
            "time: 344 ms (started: 2022-06-26 06:23:33 +00:00)\n"
          ]
        }
      ],
      "source": [
        "# The data is filtered to create a DataFrame or table where there are 20 or more total votes (5 pt)\n",
        "from pyspark.sql.functions import col\n",
        "votes_20 = vine_df.filter(col(\"total_votes\") >= 20)\n",
        "votes_20.show()"
      ]
    },
    {
      "cell_type": "code",
      "execution_count": 34,
      "metadata": {
        "colab": {
          "base_uri": "https://localhost:8080/"
        },
        "id": "ceX0eWw7fiJa",
        "outputId": "234bafea-a008-4357-8b0f-04de5c0e575e"
      },
      "outputs": [
        {
          "name": "stdout",
          "output_type": "stream",
          "text": [
            "+--------------+-----------+-------------+-----------+----+-----------------+------------------+\n",
            "|     review_id|star_rating|helpful_votes|total_votes|vine|verified_purchase|     percent_votes|\n",
            "+--------------+-----------+-------------+-----------+----+-----------------+------------------+\n",
            "|R27XX9MG7OWSSM|          5|           49|         51|   N|                Y|0.9607843137254902|\n",
            "|R1I4IFDOW6IW9O|          3|           44|         47|   N|                Y|0.9361702127659575|\n",
            "|R2LZAV3VMLGPGS|          3|           32|         33|   N|                Y|0.9696969696969697|\n",
            "|R3FITR2BQI94RA|          5|           33|         38|   N|                Y| 0.868421052631579|\n",
            "| RWYBT1R3KPD2M|          4|          142|        163|   N|                Y|0.8711656441717791|\n",
            "| RE4023DS92U8H|          5|           26|         27|   N|                Y|0.9629629629629629|\n",
            "|R25TLB0EXZ7DJZ|          5|           45|         46|   N|                Y|0.9782608695652174|\n",
            "|R1SQKXYWU7VMW1|          2|           23|         24|   N|                Y|0.9583333333333334|\n",
            "| RUL6FPHYI15TA|          2|           62|         70|   N|                Y|0.8857142857142857|\n",
            "|R1K2O880XPCW4V|          2|           26|         27|   N|                Y|0.9629629629629629|\n",
            "|R2KA15AG14I5I5|          5|           72|         81|   N|                Y|0.8888888888888888|\n",
            "|R3VCE57VVGPHHA|          5|           69|         71|   N|                Y| 0.971830985915493|\n",
            "|R3GEWL61MS0MVE|          5|           23|         24|   N|                Y|0.9583333333333334|\n",
            "|R1X06G0PTXOA61|          1|           28|         32|   N|                Y|             0.875|\n",
            "|R3IC3894IEJK1S|          2|           32|         32|   N|                Y|               1.0|\n",
            "|R2W1OMYJERBXJ1|          5|           20|         23|   Y|                N|0.8695652173913043|\n",
            "|R17CIVFMQGURJZ|          5|           24|         28|   N|                Y|0.8571428571428571|\n",
            "|R1M8O6WQETX2EQ|          5|           39|         40|   N|                Y|             0.975|\n",
            "|R30I77Z7JCPVTR|          5|           22|         22|   N|                Y|               1.0|\n",
            "|R2BEMCDEIKZ1AZ|          5|           22|         25|   N|                Y|              0.88|\n",
            "+--------------+-----------+-------------+-----------+----+-----------------+------------------+\n",
            "only showing top 20 rows\n",
            "\n",
            "time: 358 ms (started: 2022-06-26 06:23:37 +00:00)\n"
          ]
        }
      ],
      "source": [
        "# The data is filtered to create a DataFrame or table where the percentage of helpful_votes is equal to or greater than 50% (5 pt)\n",
        "percent50_votes_df = votes_20.withColumn('percent_votes',col('helpful_votes')/col('total_votes')).alias('percent_votes').filter(col(\"percent_votes\") >= 0.5)\n",
        "percent50_votes_df.show()"
      ]
    },
    {
      "cell_type": "code",
      "execution_count": 35,
      "metadata": {
        "colab": {
          "base_uri": "https://localhost:8080/"
        },
        "id": "zdpgoIdtf_XD",
        "outputId": "30711ce3-bf57-4a37-cebd-d73a3e52066f"
      },
      "outputs": [
        {
          "name": "stdout",
          "output_type": "stream",
          "text": [
            "+--------------+-----------+-------------+-----------+----+-----------------+------------------+\n",
            "|     review_id|star_rating|helpful_votes|total_votes|vine|verified_purchase|     percent_votes|\n",
            "+--------------+-----------+-------------+-----------+----+-----------------+------------------+\n",
            "|R2W1OMYJERBXJ1|          5|           20|         23|   Y|                N|0.8695652173913043|\n",
            "| R31VJCBBKU13Y|          5|           24|         27|   Y|                N|0.8888888888888888|\n",
            "|R350JNDV0INC11|          4|          388|        398|   Y|                Y|0.9748743718592965|\n",
            "|R2NJA2I5C9Y0FR|          3|           63|         73|   Y|                N| 0.863013698630137|\n",
            "|R296RSG25RD1IX|          3|           46|         51|   Y|                N|0.9019607843137255|\n",
            "|R3IJKA4RI56TFT|          4|           25|         30|   Y|                N|0.8333333333333334|\n",
            "|R1EU2LNHAWWPFI|          5|           19|         24|   Y|                N|0.7916666666666666|\n",
            "|R164L6F7QRHL8A|          5|           94|        109|   Y|                N|0.8623853211009175|\n",
            "|R3VONEXS4LRVWK|          3|          378|        388|   Y|                N|0.9742268041237113|\n",
            "| RYO3NDB745QIW|          5|           33|         37|   Y|                N|0.8918918918918919|\n",
            "|R1Q9CN3ONUQPFY|          4|           26|         27|   Y|                N|0.9629629629629629|\n",
            "|R3DOAUYPM5PRP5|          4|          304|        311|   Y|                N| 0.977491961414791|\n",
            "|R1MBYFHSDKQWTR|          5|           15|         21|   Y|                N|0.7142857142857143|\n",
            "|R2HIF4HK7B30PK|          5|           75|         80|   Y|                N|            0.9375|\n",
            "|R3VZPEQEFY6RC9|          4|           34|         37|   Y|                N| 0.918918918918919|\n",
            "|R2C65P5YI2T5U6|          5|           20|         22|   Y|                N|0.9090909090909091|\n",
            "|R3SB6ISY0UPLHY|          5|           25|         28|   Y|                N|0.8928571428571429|\n",
            "|R3103BJSOISEON|          4|           19|         21|   Y|                N|0.9047619047619048|\n",
            "|R3SVBM51RHF5YB|          4|           78|         87|   Y|                N| 0.896551724137931|\n",
            "| R7FUHZ0TN5WEX|          4|           24|         29|   Y|                N|0.8275862068965517|\n",
            "+--------------+-----------+-------------+-----------+----+-----------------+------------------+\n",
            "only showing top 20 rows\n",
            "\n",
            "time: 1.6 s (started: 2022-06-26 06:23:40 +00:00)\n"
          ]
        }
      ],
      "source": [
        "# The data is filtered to create a DataFrame or table where there is a Vine review (5 pt)\n",
        "vine_review = percent50_votes_df.filter(col(\"vine\") == \"Y\")\n",
        "vine_review.show()"
      ]
    },
    {
      "cell_type": "code",
      "execution_count": 36,
      "metadata": {
        "colab": {
          "base_uri": "https://localhost:8080/"
        },
        "id": "AYqPg3hSkGiV",
        "outputId": "50b7d260-74f0-4ec3-fe74-ab7a12ab5e91"
      },
      "outputs": [
        {
          "name": "stdout",
          "output_type": "stream",
          "text": [
            "+--------------+-----------+-------------+-----------+----+-----------------+------------------+\n",
            "|     review_id|star_rating|helpful_votes|total_votes|vine|verified_purchase|     percent_votes|\n",
            "+--------------+-----------+-------------+-----------+----+-----------------+------------------+\n",
            "|R27XX9MG7OWSSM|          5|           49|         51|   N|                Y|0.9607843137254902|\n",
            "|R1I4IFDOW6IW9O|          3|           44|         47|   N|                Y|0.9361702127659575|\n",
            "|R2LZAV3VMLGPGS|          3|           32|         33|   N|                Y|0.9696969696969697|\n",
            "|R3FITR2BQI94RA|          5|           33|         38|   N|                Y| 0.868421052631579|\n",
            "| RWYBT1R3KPD2M|          4|          142|        163|   N|                Y|0.8711656441717791|\n",
            "| RE4023DS92U8H|          5|           26|         27|   N|                Y|0.9629629629629629|\n",
            "|R25TLB0EXZ7DJZ|          5|           45|         46|   N|                Y|0.9782608695652174|\n",
            "|R1SQKXYWU7VMW1|          2|           23|         24|   N|                Y|0.9583333333333334|\n",
            "| RUL6FPHYI15TA|          2|           62|         70|   N|                Y|0.8857142857142857|\n",
            "|R1K2O880XPCW4V|          2|           26|         27|   N|                Y|0.9629629629629629|\n",
            "|R2KA15AG14I5I5|          5|           72|         81|   N|                Y|0.8888888888888888|\n",
            "|R3VCE57VVGPHHA|          5|           69|         71|   N|                Y| 0.971830985915493|\n",
            "|R3GEWL61MS0MVE|          5|           23|         24|   N|                Y|0.9583333333333334|\n",
            "|R1X06G0PTXOA61|          1|           28|         32|   N|                Y|             0.875|\n",
            "|R3IC3894IEJK1S|          2|           32|         32|   N|                Y|               1.0|\n",
            "|R17CIVFMQGURJZ|          5|           24|         28|   N|                Y|0.8571428571428571|\n",
            "|R1M8O6WQETX2EQ|          5|           39|         40|   N|                Y|             0.975|\n",
            "|R30I77Z7JCPVTR|          5|           22|         22|   N|                Y|               1.0|\n",
            "|R2BEMCDEIKZ1AZ|          5|           22|         25|   N|                Y|              0.88|\n",
            "|R34AP9KC4GV107|          1|           18|         23|   N|                N| 0.782608695652174|\n",
            "+--------------+-----------+-------------+-----------+----+-----------------+------------------+\n",
            "only showing top 20 rows\n",
            "\n",
            "time: 263 ms (started: 2022-06-26 06:23:45 +00:00)\n"
          ]
        }
      ],
      "source": [
        "# The data is filtered to create a DataFrame or table where there isn't a Vine review (5 pt)\n",
        "non_vine_review = percent50_votes_df.filter(col(\"vine\") == \"N\")\n",
        "non_vine_review.show()"
      ]
    },
    {
      "cell_type": "code",
      "execution_count": 37,
      "metadata": {
        "colab": {
          "base_uri": "https://localhost:8080/"
        },
        "id": "XBRCiMmmkO0B",
        "outputId": "610a8cde-5bfe-4fdd-d3d3-11301d9ed961"
      },
      "outputs": [
        {
          "name": "stdout",
          "output_type": "stream",
          "text": [
            "VINE REVIEW METRICS\n",
            "---------------------------------------------------------\n",
            "Total Vine review          : 1448\n",
            "Total Vine 5 star review   : 647\n",
            "Percent Vine 5 star revi   : 0.45\n",
            "---------------------------------------------------------\n",
            "NON VINE REVIEW METRICS\n",
            "---------------------------------------------------------\n",
            "Total Non Vine review          : 90768\n",
            "Total Non Vine 5 star review   : 44104\n",
            "Percent Non Vine 5 star revi   : 0.49\n",
            "---------------------------------------------------------\n",
            "time: 2min 15s (started: 2022-06-26 06:23:51 +00:00)\n"
          ]
        }
      ],
      "source": [
        "# The total number of reviews, the number of 5-star reviews, and the percentage 5-star reviews are calculated for all Vine and non-Vine reviews (15 pt)\n",
        "\n",
        "## All Vine Reviews\n",
        "total_vine_reviews = vine_review.count()\n",
        "vine_5star = vine_review.filter(vine_review['star_rating']== 5).count()\n",
        "percent_5star_vine = float(vine_5star) / float(total_vine_reviews)\n",
        "print(f'VINE REVIEW METRICS')\n",
        "print(\"---------------------------------------------------------\")\n",
        "print(f'Total Vine review             : {total_vine_reviews}')\n",
        "print(f'Total Vine 5 star review      : {vine_5star}')\n",
        "print(f'Percent Vine 5 star reviews   : {percent_5star_vine:0.2f}')\n",
        "print(\"---------------------------------------------------------\")\n",
        "\n",
        "\n",
        "## All Non Vine Reviews\n",
        "total_non_vine_reviews = non_vine_review.count()\n",
        "non_vine_5star = non_vine_review.filter(non_vine_review['star_rating']== 5).count()\n",
        "percent_5star_non_vine = float(non_vine_5star) / float(total_non_vine_reviews)\n",
        "print(f'NON VINE REVIEW METRICS')\n",
        "print(\"---------------------------------------------------------\")\n",
        "print(f'Total Non Vine review             : {total_non_vine_reviews}')\n",
        "print(f'Total Non Vine 5 star review      : {non_vine_5star}')\n",
        "print(f'Percent Non Vine 5 star reviews   : {percent_5star_non_vine:0.2f}')\n",
        "print(\"---------------------------------------------------------\")"
      ]
    },
    {
      "cell_type": "code",
      "execution_count": null,
      "metadata": {
        "id": "RiThio3-oT-n"
      },
      "outputs": [],
      "source": []
    }
  ],
  "metadata": {
    "colab": {
      "name": "Vine_Review_Analysis.ipynb",
      "provenance": []
    },
    "kernelspec": {
      "display_name": "Python 3",
      "name": "python3"
    },
    "language_info": {
      "name": "python"
    }
  },
  "nbformat": 4,
  "nbformat_minor": 0
}
