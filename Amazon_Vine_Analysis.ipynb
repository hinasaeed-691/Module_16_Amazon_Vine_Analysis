{
  "cells": [
    {
      "cell_type": "code",
      "execution_count": 1,
      "metadata": {
        "colab": {
          "base_uri": "https://localhost:8080/"
        },
        "id": "Vj3_6xgk2ml7",
        "outputId": "f25e8b00-9901-4dd2-abf4-56f52f38c5c1"
      },
      "outputs": [
        {
          "name": "stdout",
          "output_type": "stream",
          "text": [
            "\r0% [Working]\r            \rHit:1 https://developer.download.nvidia.com/compute/cuda/repos/ubuntu1804/x86_64  InRelease\n",
            "\r0% [Waiting for headers] [Waiting for headers] [Waiting for headers] [Waiting f\r                                                                               \rHit:2 https://cloud.r-project.org/bin/linux/ubuntu bionic-cran40/ InRelease\n",
            "\r0% [Waiting for headers] [Waiting for headers] [Waiting for headers] [Waiting f\r0% [1 InRelease gpgv 1,581 B] [Waiting for headers] [Waiting for headers] [Wait\r                                                                               \rIgn:3 https://developer.download.nvidia.com/compute/machine-learning/repos/ubuntu1804/x86_64  InRelease\n",
            "\r0% [1 InRelease gpgv 1,581 B] [Waiting for headers] [Waiting for headers] [Wait\r                                                                               \rHit:4 https://developer.download.nvidia.com/compute/machine-learning/repos/ubuntu1804/x86_64  Release\n",
            "Hit:5 http://archive.ubuntu.com/ubuntu bionic InRelease\n",
            "Get:6 http://archive.ubuntu.com/ubuntu bionic-updates InRelease [88.7 kB]\n",
            "Get:7 http://archive.ubuntu.com/ubuntu bionic-backports InRelease [74.6 kB]\n",
            "Hit:8 http://ppa.launchpad.net/c2d4u.team/c2d4u4.0+/ubuntu bionic InRelease\n",
            "Hit:9 http://ppa.launchpad.net/cran/libgit2/ubuntu bionic InRelease\n",
            "Get:10 http://security.ubuntu.com/ubuntu bionic-security InRelease [88.7 kB]\n",
            "Hit:11 http://ppa.launchpad.net/deadsnakes/ppa/ubuntu bionic InRelease\n",
            "Hit:13 http://ppa.launchpad.net/graphics-drivers/ppa/ubuntu bionic InRelease\n",
            "Fetched 252 kB in 4s (64.2 kB/s)\n",
            "Reading package lists... Done\n"
          ]
        }
      ],
      "source": [
        "import os\n",
        "# Find the latest version of spark 3.0  from http://www.apache.org/dist/spark/ and enter as the spark version\n",
        "# For example:\n",
        "# spark_version = 'spark-3.0.3'\n",
        "spark_version = 'spark-3.0.3'\n",
        "os.environ['SPARK_VERSION']=spark_version\n",
        "\n",
        "# Install Spark and Java\n",
        "!apt-get update\n",
        "!apt-get install openjdk-11-jdk-headless -qq > /dev/null\n",
        "!wget -q http://www.apache.org/dist/spark/$SPARK_VERSION/$SPARK_VERSION-bin-hadoop2.7.tgz\n",
        "!tar xf $SPARK_VERSION-bin-hadoop2.7.tgz\n",
        "!pip install -q findspark\n",
        "\n",
        "# Set Environment Variables\n",
        "import os\n",
        "os.environ[\"JAVA_HOME\"] = \"/usr/lib/jvm/java-11-openjdk-amd64\"\n",
        "os.environ[\"SPARK_HOME\"] = f\"/content/{spark_version}-bin-hadoop2.7\"\n",
        "\n",
        "# Start a SparkSession\n",
        "import findspark\n",
        "findspark.init()"
      ]
    },
    {
      "cell_type": "code",
      "execution_count": 2,
      "metadata": {
        "colab": {
          "base_uri": "https://localhost:8080/"
        },
        "id": "0bIfJ8m94f9W",
        "outputId": "1ed2cbeb-7b8d-477f-db48-1575469bb707"
      },
      "outputs": [
        {
          "name": "stdout",
          "output_type": "stream",
          "text": [
            "Looking in indexes: https://pypi.org/simple, https://us-python.pkg.dev/colab-wheels/public/simple/\n",
            "Requirement already satisfied: ipython-autotime in /usr/local/lib/python3.7/dist-packages (0.3.1)\n",
            "Requirement already satisfied: ipython in /usr/local/lib/python3.7/dist-packages (from ipython-autotime) (5.5.0)\n",
            "Requirement already satisfied: setuptools>=18.5 in /usr/local/lib/python3.7/dist-packages (from ipython->ipython-autotime) (57.4.0)\n",
            "Requirement already satisfied: decorator in /usr/local/lib/python3.7/dist-packages (from ipython->ipython-autotime) (4.4.2)\n",
            "Requirement already satisfied: simplegeneric>0.8 in /usr/local/lib/python3.7/dist-packages (from ipython->ipython-autotime) (0.8.1)\n",
            "Requirement already satisfied: traitlets>=4.2 in /usr/local/lib/python3.7/dist-packages (from ipython->ipython-autotime) (5.1.1)\n",
            "Requirement already satisfied: pygments in /usr/local/lib/python3.7/dist-packages (from ipython->ipython-autotime) (2.6.1)\n",
            "Requirement already satisfied: prompt-toolkit<2.0.0,>=1.0.4 in /usr/local/lib/python3.7/dist-packages (from ipython->ipython-autotime) (1.0.18)\n",
            "Requirement already satisfied: pexpect in /usr/local/lib/python3.7/dist-packages (from ipython->ipython-autotime) (4.8.0)\n",
            "Requirement already satisfied: pickleshare in /usr/local/lib/python3.7/dist-packages (from ipython->ipython-autotime) (0.7.5)\n",
            "Requirement already satisfied: wcwidth in /usr/local/lib/python3.7/dist-packages (from prompt-toolkit<2.0.0,>=1.0.4->ipython->ipython-autotime) (0.2.5)\n",
            "Requirement already satisfied: six>=1.9.0 in /usr/local/lib/python3.7/dist-packages (from prompt-toolkit<2.0.0,>=1.0.4->ipython->ipython-autotime) (1.15.0)\n",
            "Requirement already satisfied: ptyprocess>=0.5 in /usr/local/lib/python3.7/dist-packages (from pexpect->ipython->ipython-autotime) (0.7.0)\n",
            "time: 228 µs (started: 2022-06-26 04:30:31 +00:00)\n"
          ]
        }
      ],
      "source": [
        "from google.colab import data_table\n",
        "data_table.enable_dataframe_formatter()\n",
        "!pip install ipython-autotime\n",
        "%load_ext autotime"
      ]
    },
    {
      "cell_type": "code",
      "execution_count": 3,
      "metadata": {
        "colab": {
          "base_uri": "https://localhost:8080/"
        },
        "id": "y9tXdeHNmJ-w",
        "outputId": "866370ce-2868-4258-c6a1-f922fd2621d3"
      },
      "outputs": [
        {
          "name": "stdout",
          "output_type": "stream",
          "text": [
            "--2022-06-26 04:30:31--  https://jdbc.postgresql.org/download/postgresql-42.2.16.jar\n",
            "Resolving jdbc.postgresql.org (jdbc.postgresql.org)... 72.32.157.228, 2001:4800:3e1:1::228\n",
            "Connecting to jdbc.postgresql.org (jdbc.postgresql.org)|72.32.157.228|:443... connected.\n",
            "HTTP request sent, awaiting response... 200 OK\n",
            "Length: 1002883 (979K) [application/java-archive]\n",
            "Saving to: ‘postgresql-42.2.16.jar.1’\n",
            "\n",
            "postgresql-42.2.16. 100%[===================>] 979.38K  --.-KB/s    in 0.08s   \n",
            "\n",
            "2022-06-26 04:30:31 (11.5 MB/s) - ‘postgresql-42.2.16.jar.1’ saved [1002883/1002883]\n",
            "\n",
            "time: 438 ms (started: 2022-06-26 04:30:31 +00:00)\n"
          ]
        }
      ],
      "source": [
        "# Download the Postgres driver that will allow Spark to interact with Postgres.\n",
        "!wget https://jdbc.postgresql.org/download/postgresql-42.2.16.jar"
      ]
    },
    {
      "cell_type": "code",
      "execution_count": 4,
      "metadata": {
        "colab": {
          "base_uri": "https://localhost:8080/"
        },
        "id": "3bDBxhu9oH2Q",
        "outputId": "830f576a-0aaa-4487-8d85-8ddae5ca3443"
      },
      "outputs": [
        {
          "name": "stdout",
          "output_type": "stream",
          "text": [
            "time: 8.9 s (started: 2022-06-26 04:30:31 +00:00)\n"
          ]
        }
      ],
      "source": [
        "from pyspark.sql import SparkSession\n",
        "spark = SparkSession.builder.appName(\"BigData-Challenge\").config(\"spark.driver.extraClassPath\",\"/content/postgresql-42.2.16.jar\").getOrCreate()"
      ]
    },
    {
      "cell_type": "markdown",
      "metadata": {
        "id": "9YtzrQdCt91Z"
      },
      "source": [
        "### Load Amazon Reviews Data\n",
        "[Amazon Review datasets](https://s3.amazonaws.com/amazon-reviews-pds/tsv/index.txt)\n"
      ]
    },
    {
      "cell_type": "code",
      "execution_count": 5,
      "metadata": {
        "colab": {
          "base_uri": "https://localhost:8080/"
        },
        "id": "kttIwyp2oPjw",
        "outputId": "9ed1e19b-47c2-4aac-b6d4-cfdc92b54de4"
      },
      "outputs": [
        {
          "name": "stdout",
          "output_type": "stream",
          "text": [
            "+-----------+-----------+--------------+----------+--------------+--------------------+----------------+-----------+-------------+-----------+----+-----------------+--------------------+--------------------+-----------+\n",
            "|marketplace|customer_id|     review_id|product_id|product_parent|       product_title|product_category|star_rating|helpful_votes|total_votes|vine|verified_purchase|     review_headline|         review_body|review_date|\n",
            "+-----------+-----------+--------------+----------+--------------+--------------------+----------------+-----------+-------------+-----------+----+-----------------+--------------------+--------------------+-----------+\n",
            "|         US|   33670092|R1UUISQ1GKOJTI|B00EE62UAE|     583436067|Trademark Home Po...|            Home|          1|            0|          0|   N|                Y|                 Run|Don't buy it clap...| 2015-08-31|\n",
            "|         US|   13726692|R1HOJ9WE8VCVOD|B001APXO5C|     465035091|O2-Cool 10-Inch P...|            Home|          5|            9|          9|   N|                Y|Love it, really c...|Love this ,I boug...| 2015-08-31|\n",
            "|         US|   50131396| RDNGVXMWQN2TN|B002HFDLCK|     136507891|Hoover Vacuum Cle...|            Home|          5|            0|          0|   N|                Y|          Five Stars|Nice style, color...| 2015-08-31|\n",
            "|         US|   16046884|R3OM9COQMVTDJ2|B00PL9EFPQ|     631238459|Banksy Pile of Ri...|            Home|          2|            0|          0|   N|                Y|Love Banksy's wor...|Meeeh. Love Banks...| 2015-08-31|\n",
            "|         US|   11417282|R3OFUQVR4Y80Q9|B00B5TPVQS|     190431573|SkyScan Atomic Wa...|            Home|          4|            0|          0|   N|                N|A silent second h...|Review by John Cr...| 2015-08-31|\n",
            "|         US|   48013430|R2GD25SBBGRKPO|B00NQDGHDC|     124050883|Mellanni Bed Shee...|            Home|          5|            0|          0|   N|                Y|I am very pleased...|I am very pleased...| 2015-08-31|\n",
            "|         US|    7341516|R3RRSLYKVWH9WB|B00I3BYEXM|     933053612|Hippie Hobo Sling...|            Home|          5|            0|          0|   N|                Y|          Five Stars|LOVE THIS SO VERY...| 2015-08-31|\n",
            "|         US|   20696954|R2HMFAGJJU6NT3|B008QZD7RY|      77515396|OluKai Hokua Sand...|            Home|          5|            0|          0|   N|                Y|          Five Stars|           Love them| 2015-08-31|\n",
            "|         US|   28241302|R2QDRZATHBY4GY|B00TQ6MXE0|     267158600|Melrose Ivory Ant...|            Home|          1|            0|          0|   N|                Y|Not the color I e...|This is a nice sh...| 2015-08-31|\n",
            "|         US|   45444347|R107946YZK57Q2|B004O39RJ4|     473994651|Home Basics 6-Pie...|            Home|          2|            0|          0|   N|                Y|Two mugs came chi...|Two mugs came chi...| 2015-08-31|\n",
            "|         US|   15080335|R31EK6FUI5YAL1|B003LZ09C0|     945333576|La Crosse Technol...|            Home|          5|            0|          0|   N|                Y|          Five Stars|Works great, it a...| 2015-08-31|\n",
            "|         US|   12081067|R2PCO0R2FKDQLD|B00I56KQV4|     383995956|Cozy Beddings 3-P...|            Home|          5|            0|          0|   N|                Y|          Five Stars|Exactly as I expe...| 2015-08-31|\n",
            "|         US|   26317120|R3HR2Y7RR8NWL0|B00GS6ENAS|     255999883|Tools of the Trad...|            Home|          4|            0|          0|   N|                Y|          Four Stars|    met expectations| 2015-08-31|\n",
            "|         US|   37523392|R2D2NATNTV6VBD|B00S9X17SY|     142926812|Clara Clark Premi...|            Home|          3|            0|          0|   N|                Y|        Pretty color|Very silky feelin...| 2015-08-31|\n",
            "|         US|   36990227| RKB0AGB0GJ693|B001R1RXUG|     237680897|Honeywell HT-908 ...|            Home|          5|            0|          0|   N|                Y|          Five Stars|Works great for t...| 2015-08-31|\n",
            "|         US|    8273344| RN6VOEZIS9SRX|B008T19WSS|     395315543|2 pcs .925 Sterli...|            Home|          5|            0|          0|   N|                Y|          Five Stars|          love these| 2015-08-31|\n",
            "|         US|   45448526|R31I8XK53JBAQ2|B011A4X754|     751900773|Artficial Pachyve...|            Home|          4|            0|          0|   N|                Y|          Four Stars|Good length. Very...| 2015-08-31|\n",
            "|         US|   28088591|R2R2Y989GKB6QH|B00DDIKBQO|     764331420|Pinzon Blackout C...|            Home|          5|            0|          0|   N|                Y|          Five Stars|        Works great!| 2015-08-31|\n",
            "|         US|   20276397|R12WZKURAV2VEY|B00F3T165Q|     962537263|Rit Dye Liquid Dy...|            Home|          5|            0|          0|   N|                Y|            Love it!|Been using this f...| 2015-08-31|\n",
            "|         US|     123327| RX2EMR0I821HW|B006C6FC6S|     279696452|The Original Slee...|            Home|          2|            0|          0|   N|                Y|           Two Stars|Ehh. Not sure why...| 2015-08-31|\n",
            "+-----------+-----------+--------------+----------+--------------+--------------------+----------------+-----------+-------------+-----------+----+-----------------+--------------------+--------------------+-----------+\n",
            "only showing top 20 rows\n",
            "\n",
            "time: 1min 11s (started: 2022-06-26 04:30:40 +00:00)\n"
          ]
        }
      ],
      "source": [
        "### Load Data\n",
        "from pyspark import SparkFiles\n",
        "url = \"https://s3.amazonaws.com/amazon-reviews-pds/tsv/amazon_reviews_us_Home_v1_00.tsv.gz\"\n",
        "spark.sparkContext.addFile(url)\n",
        "df = spark.read.csv(SparkFiles.get(\"amazon_reviews_us_Home_v1_00.tsv.gz\"), sep=\"\\t\", header=True, inferSchema=True)\n",
        "df.show()"
      ]
    },
    {
      "cell_type": "markdown",
      "metadata": {
        "id": "IaD_lfv63hPm"
      },
      "source": [
        "### Create DataFrames to match tables"
      ]
    },
    {
      "cell_type": "code",
      "execution_count": 6,
      "metadata": {
        "colab": {
          "base_uri": "https://localhost:8080/"
        },
        "id": "aUfqpoWYuBlG",
        "outputId": "e36dc61c-6f12-4e58-87ae-16f978ff47cf"
      },
      "outputs": [
        {
          "name": "stdout",
          "output_type": "stream",
          "text": [
            "+--------------+-----------+----------+--------------+--------------------+-----------+-----------+-------------+-----------+----+-----------------+\n",
            "|     review_id|customer_id|product_id|product_parent|       product_title|review_date|star_rating|helpful_votes|total_votes|vine|verified_purchase|\n",
            "+--------------+-----------+----------+--------------+--------------------+-----------+-----------+-------------+-----------+----+-----------------+\n",
            "|R1UUISQ1GKOJTI|   33670092|B00EE62UAE|     583436067|Trademark Home Po...| 2015-08-31|          1|            0|          0|   N|                Y|\n",
            "|R1HOJ9WE8VCVOD|   13726692|B001APXO5C|     465035091|O2-Cool 10-Inch P...| 2015-08-31|          5|            9|          9|   N|                Y|\n",
            "| RDNGVXMWQN2TN|   50131396|B002HFDLCK|     136507891|Hoover Vacuum Cle...| 2015-08-31|          5|            0|          0|   N|                Y|\n",
            "|R3OM9COQMVTDJ2|   16046884|B00PL9EFPQ|     631238459|Banksy Pile of Ri...| 2015-08-31|          2|            0|          0|   N|                Y|\n",
            "|R3OFUQVR4Y80Q9|   11417282|B00B5TPVQS|     190431573|SkyScan Atomic Wa...| 2015-08-31|          4|            0|          0|   N|                N|\n",
            "|R2GD25SBBGRKPO|   48013430|B00NQDGHDC|     124050883|Mellanni Bed Shee...| 2015-08-31|          5|            0|          0|   N|                Y|\n",
            "|R3RRSLYKVWH9WB|    7341516|B00I3BYEXM|     933053612|Hippie Hobo Sling...| 2015-08-31|          5|            0|          0|   N|                Y|\n",
            "|R2HMFAGJJU6NT3|   20696954|B008QZD7RY|      77515396|OluKai Hokua Sand...| 2015-08-31|          5|            0|          0|   N|                Y|\n",
            "|R2QDRZATHBY4GY|   28241302|B00TQ6MXE0|     267158600|Melrose Ivory Ant...| 2015-08-31|          1|            0|          0|   N|                Y|\n",
            "|R107946YZK57Q2|   45444347|B004O39RJ4|     473994651|Home Basics 6-Pie...| 2015-08-31|          2|            0|          0|   N|                Y|\n",
            "|R31EK6FUI5YAL1|   15080335|B003LZ09C0|     945333576|La Crosse Technol...| 2015-08-31|          5|            0|          0|   N|                Y|\n",
            "|R2PCO0R2FKDQLD|   12081067|B00I56KQV4|     383995956|Cozy Beddings 3-P...| 2015-08-31|          5|            0|          0|   N|                Y|\n",
            "|R3HR2Y7RR8NWL0|   26317120|B00GS6ENAS|     255999883|Tools of the Trad...| 2015-08-31|          4|            0|          0|   N|                Y|\n",
            "|R2D2NATNTV6VBD|   37523392|B00S9X17SY|     142926812|Clara Clark Premi...| 2015-08-31|          3|            0|          0|   N|                Y|\n",
            "| RKB0AGB0GJ693|   36990227|B001R1RXUG|     237680897|Honeywell HT-908 ...| 2015-08-31|          5|            0|          0|   N|                Y|\n",
            "| RN6VOEZIS9SRX|    8273344|B008T19WSS|     395315543|2 pcs .925 Sterli...| 2015-08-31|          5|            0|          0|   N|                Y|\n",
            "|R31I8XK53JBAQ2|   45448526|B011A4X754|     751900773|Artficial Pachyve...| 2015-08-31|          4|            0|          0|   N|                Y|\n",
            "|R2R2Y989GKB6QH|   28088591|B00DDIKBQO|     764331420|Pinzon Blackout C...| 2015-08-31|          5|            0|          0|   N|                Y|\n",
            "|R12WZKURAV2VEY|   20276397|B00F3T165Q|     962537263|Rit Dye Liquid Dy...| 2015-08-31|          5|            0|          0|   N|                Y|\n",
            "| RX2EMR0I821HW|     123327|B006C6FC6S|     279696452|The Original Slee...| 2015-08-31|          2|            0|          0|   N|                Y|\n",
            "+--------------+-----------+----------+--------------+--------------------+-----------+-----------+-------------+-----------+----+-----------------+\n",
            "only showing top 20 rows\n",
            "\n",
            "time: 483 ms (started: 2022-06-26 04:31:52 +00:00)\n"
          ]
        }
      ],
      "source": [
        "from pyspark.sql.functions import to_date\n",
        "# Read in the Review dataset as a DataFrame\n",
        "review_df = df.select([\"review_id\",\"customer_id\",\"product_id\",\"product_parent\",\"product_title\",\"review_date\",\"star_rating\", \"helpful_votes\",\"total_votes\",\"vine\",\"verified_purchase\"])\n",
        "review_df.show()"
      ]
    },
    {
      "cell_type": "code",
      "execution_count": 7,
      "metadata": {
        "colab": {
          "base_uri": "https://localhost:8080/"
        },
        "id": "Jio8vFiI3qmz",
        "outputId": "e64a31a1-c6b3-4067-9e96-d33f68435052"
      },
      "outputs": [
        {
          "name": "stdout",
          "output_type": "stream",
          "text": [
            "+-----------+--------------+\n",
            "|customer_id|customer_count|\n",
            "+-----------+--------------+\n",
            "|   28241302|             1|\n",
            "|   15991768|             1|\n",
            "|   17067926|             7|\n",
            "|    8905239|             3|\n",
            "|   51794064|             1|\n",
            "|   33132797|             3|\n",
            "|   21325555|             1|\n",
            "|    1574612|             1|\n",
            "|   12819130|             3|\n",
            "|   44224073|             1|\n",
            "|   16679709|             1|\n",
            "|   10742726|             1|\n",
            "|   52391013|             2|\n",
            "|   38209321|            10|\n",
            "|    2545142|             1|\n",
            "|   52918362|             6|\n",
            "|   47663761|             3|\n",
            "|   25031530|            21|\n",
            "|   29476112|             1|\n",
            "|   51496479|             1|\n",
            "+-----------+--------------+\n",
            "only showing top 20 rows\n",
            "\n",
            "time: 39.6 s (started: 2022-06-26 04:31:52 +00:00)\n"
          ]
        }
      ],
      "source": [
        "# Create the customers_table DataFrame\n",
        "customers_df = df.groupby(\"customer_id\").agg({\"customer_id\": 'count'}).withColumnRenamed(\"count(customer_id)\", \"customer_count\")\n",
        "customers_df.show()"
      ]
    },
    {
      "cell_type": "code",
      "execution_count": 8,
      "metadata": {
        "colab": {
          "base_uri": "https://localhost:8080/"
        },
        "id": "z4jz7mWYCbq7",
        "outputId": "4bb77e55-5bfe-49f3-d529-1b9d0f3f102d"
      },
      "outputs": [
        {
          "name": "stdout",
          "output_type": "stream",
          "text": [
            "+----------+--------------------+\n",
            "|product_id|       product_title|\n",
            "+----------+--------------------+\n",
            "|0486417700|Metallic Foil Ori...|\n",
            "|1619922363|Cavallini 2014 Fl...|\n",
            "|1619924307|Cavallini Papers ...|\n",
            "|1842104497|HUGH JACKMAN 2014...|\n",
            "|7078976541|VECTRA® 22 Fabric...|\n",
            "|7482784535|Genuine Leather C...|\n",
            "|753854514X|Low Voltage 12V A...|\n",
            "|9178889472|Småland Böna IKEA...|\n",
            "|9178892171|IKEA - ROTERA Lan...|\n",
            "|9178909309|IKEA - PORTIS Hat...|\n",
            "|B00004W40I|King Electrical 6...|\n",
            "|B00005QFT1|Le Creuset Jumbo ...|\n",
            "|B00005T3Z7|Endust for Electr...|\n",
            "|B00006498M|SINGER 6038 46-St...|\n",
            "|B0000665TD|J-2000 Garment St...|\n",
            "|B000069BF9|Euro-Pro Shark EP...|\n",
            "|B00006GXAP|  Ecru Squares Quilt|\n",
            "|B000075MI0|Stainless Steel C...|\n",
            "|B000095ZGF|Polder 90616-05 W...|\n",
            "|B000096P32|Testors Enamel Fi...|\n",
            "+----------+--------------------+\n",
            "only showing top 20 rows\n",
            "\n",
            "time: 50.8 s (started: 2022-06-26 04:32:32 +00:00)\n"
          ]
        }
      ],
      "source": [
        "# Create the products_table DataFrame and drop duplicates. \n",
        "products_df = df.select([\"product_id\",\"product_title\"]).drop_duplicates([\"product_id\"])\n",
        "products_df.show()"
      ]
    },
    {
      "cell_type": "code",
      "execution_count": 9,
      "metadata": {
        "colab": {
          "base_uri": "https://localhost:8080/"
        },
        "id": "Wpk2RQymCqQG",
        "outputId": "85a797d7-6eeb-4f29-badb-9584b33c47a4"
      },
      "outputs": [
        {
          "name": "stdout",
          "output_type": "stream",
          "text": [
            "+--------------+-----------+----------+--------------+-----------+\n",
            "|     review_id|customer_id|product_id|product_parent|review_date|\n",
            "+--------------+-----------+----------+--------------+-----------+\n",
            "|R1UUISQ1GKOJTI|   33670092|B00EE62UAE|     583436067| 2015-08-31|\n",
            "|R1HOJ9WE8VCVOD|   13726692|B001APXO5C|     465035091| 2015-08-31|\n",
            "| RDNGVXMWQN2TN|   50131396|B002HFDLCK|     136507891| 2015-08-31|\n",
            "|R3OM9COQMVTDJ2|   16046884|B00PL9EFPQ|     631238459| 2015-08-31|\n",
            "|R3OFUQVR4Y80Q9|   11417282|B00B5TPVQS|     190431573| 2015-08-31|\n",
            "|R2GD25SBBGRKPO|   48013430|B00NQDGHDC|     124050883| 2015-08-31|\n",
            "|R3RRSLYKVWH9WB|    7341516|B00I3BYEXM|     933053612| 2015-08-31|\n",
            "|R2HMFAGJJU6NT3|   20696954|B008QZD7RY|      77515396| 2015-08-31|\n",
            "|R2QDRZATHBY4GY|   28241302|B00TQ6MXE0|     267158600| 2015-08-31|\n",
            "|R107946YZK57Q2|   45444347|B004O39RJ4|     473994651| 2015-08-31|\n",
            "|R31EK6FUI5YAL1|   15080335|B003LZ09C0|     945333576| 2015-08-31|\n",
            "|R2PCO0R2FKDQLD|   12081067|B00I56KQV4|     383995956| 2015-08-31|\n",
            "|R3HR2Y7RR8NWL0|   26317120|B00GS6ENAS|     255999883| 2015-08-31|\n",
            "|R2D2NATNTV6VBD|   37523392|B00S9X17SY|     142926812| 2015-08-31|\n",
            "| RKB0AGB0GJ693|   36990227|B001R1RXUG|     237680897| 2015-08-31|\n",
            "| RN6VOEZIS9SRX|    8273344|B008T19WSS|     395315543| 2015-08-31|\n",
            "|R31I8XK53JBAQ2|   45448526|B011A4X754|     751900773| 2015-08-31|\n",
            "|R2R2Y989GKB6QH|   28088591|B00DDIKBQO|     764331420| 2015-08-31|\n",
            "|R12WZKURAV2VEY|   20276397|B00F3T165Q|     962537263| 2015-08-31|\n",
            "| RX2EMR0I821HW|     123327|B006C6FC6S|     279696452| 2015-08-31|\n",
            "+--------------+-----------+----------+--------------+-----------+\n",
            "only showing top 20 rows\n",
            "\n",
            "time: 324 ms (started: 2022-06-26 04:33:22 +00:00)\n"
          ]
        }
      ],
      "source": [
        "# Create the review_id_table DataFrame. \n",
        "# Convert the 'review_date' column to a date datatype with to_date(\"review_date\", 'yyyy-MM-dd').alias(\"review_date\")\n",
        "# review_id_df = df.select([, to_date(\"review_date\", 'yyyy-MM-dd').alias(\"review_date\")])\n",
        "review_id_df = df.select([\"review_id\",\"customer_id\", \"product_id\",\"product_parent\", to_date(\"review_date\", 'yyyy-MM-dd').alias(\"review_date\")])\n",
        "review_id_df.show()"
      ]
    },
    {
      "cell_type": "code",
      "execution_count": 11,
      "metadata": {
        "colab": {
          "base_uri": "https://localhost:8080/"
        },
        "id": "jZE7lFS6Dfht",
        "outputId": "b4cdb689-f233-46ea-e2a4-67ae0b58aa65"
      },
      "outputs": [
        {
          "name": "stdout",
          "output_type": "stream",
          "text": [
            "+--------------+-----------+-------------+-----------+----+-----------------+\n",
            "|     review_id|star_rating|helpful_votes|total_votes|vine|verified_purchase|\n",
            "+--------------+-----------+-------------+-----------+----+-----------------+\n",
            "|R1UUISQ1GKOJTI|          1|            0|          0|   N|                Y|\n",
            "|R1HOJ9WE8VCVOD|          5|            9|          9|   N|                Y|\n",
            "| RDNGVXMWQN2TN|          5|            0|          0|   N|                Y|\n",
            "|R3OM9COQMVTDJ2|          2|            0|          0|   N|                Y|\n",
            "|R3OFUQVR4Y80Q9|          4|            0|          0|   N|                N|\n",
            "|R2GD25SBBGRKPO|          5|            0|          0|   N|                Y|\n",
            "|R3RRSLYKVWH9WB|          5|            0|          0|   N|                Y|\n",
            "|R2HMFAGJJU6NT3|          5|            0|          0|   N|                Y|\n",
            "|R2QDRZATHBY4GY|          1|            0|          0|   N|                Y|\n",
            "|R107946YZK57Q2|          2|            0|          0|   N|                Y|\n",
            "|R31EK6FUI5YAL1|          5|            0|          0|   N|                Y|\n",
            "|R2PCO0R2FKDQLD|          5|            0|          0|   N|                Y|\n",
            "|R3HR2Y7RR8NWL0|          4|            0|          0|   N|                Y|\n",
            "|R2D2NATNTV6VBD|          3|            0|          0|   N|                Y|\n",
            "| RKB0AGB0GJ693|          5|            0|          0|   N|                Y|\n",
            "| RN6VOEZIS9SRX|          5|            0|          0|   N|                Y|\n",
            "|R31I8XK53JBAQ2|          4|            0|          0|   N|                Y|\n",
            "|R2R2Y989GKB6QH|          5|            0|          0|   N|                Y|\n",
            "|R12WZKURAV2VEY|          5|            0|          0|   N|                Y|\n",
            "| RX2EMR0I821HW|          2|            0|          0|   N|                Y|\n",
            "+--------------+-----------+-------------+-----------+----+-----------------+\n",
            "only showing top 20 rows\n",
            "\n",
            "time: 213 ms (started: 2022-06-26 04:33:41 +00:00)\n"
          ]
        }
      ],
      "source": [
        "# Create the vine_table. DataFrame\n",
        "# vine_df = df.select([])\n",
        "vine_df = review_df.select([\"review_id\",\"star_rating\",\"helpful_votes\",\"total_votes\",\"vine\",\"verified_purchase\"])\n",
        "vine_df.show()"
      ]
    },
    {
      "cell_type": "markdown",
      "metadata": {
        "id": "BUZXKsiSDqRS"
      },
      "source": [
        "### Connect to the AWS RDS instance and write each DataFrame to its table. "
      ]
    },
    {
      "cell_type": "code",
      "execution_count": 12,
      "metadata": {
        "colab": {
          "base_uri": "https://localhost:8080/"
        },
        "id": "bak-X1PvDlNf",
        "outputId": "451d808a-7a7b-4c43-da08-fb2e5641fb90"
      },
      "outputs": [
        {
          "name": "stdout",
          "output_type": "stream",
          "text": [
            "time: 2.03 ms (started: 2022-06-26 04:33:57 +00:00)\n"
          ]
        }
      ],
      "source": [
        "mode = \"append\"\n",
        "jdbc_url=\"jdbc:postgresql://database-bootcamp-16.cc8rspzj5tqc.us-east-1.rds.amazonaws.com:5432/reviews\"\n",
        "config = {\"user\":\"postgres\", \n",
        "          \"password\": \"\", ## password removed\n",
        "          \"driver\":\"org.postgresql.Driver\"}"
      ]
    },
    {
      "cell_type": "code",
      "execution_count": 14,
      "metadata": {
        "colab": {
          "base_uri": "https://localhost:8080/"
        },
        "id": "aj_InaiKFYX5",
        "outputId": "62d77475-1b54-444e-c0fa-bb9ff046accd"
      },
      "outputs": [
        {
          "name": "stdout",
          "output_type": "stream",
          "text": [
            "time: 17min 23s (started: 2022-06-26 04:37:33 +00:00)\n"
          ]
        }
      ],
      "source": [
        "# Write review_id_df to table in RDS\n",
        "review_id_df.write.jdbc(url=jdbc_url, table='review_id_table', mode=mode, properties=config)"
      ]
    },
    {
      "cell_type": "code",
      "execution_count": 15,
      "metadata": {
        "colab": {
          "base_uri": "https://localhost:8080/"
        },
        "id": "KQ3qXoBhFicy",
        "outputId": "25e446f5-e658-4d34-d747-0e2780345c46"
      },
      "outputs": [
        {
          "name": "stdout",
          "output_type": "stream",
          "text": [
            "time: 2min 55s (started: 2022-06-26 04:54:56 +00:00)\n"
          ]
        }
      ],
      "source": [
        "# Write products_df to table in RDS\n",
        "# about 3 min\n",
        "products_df.write.jdbc(url=jdbc_url, table='products_table', mode=mode, properties=config)"
      ]
    },
    {
      "cell_type": "code",
      "execution_count": 16,
      "metadata": {
        "colab": {
          "base_uri": "https://localhost:8080/"
        },
        "id": "V6M2fcX2QBnN",
        "outputId": "984c9688-3ea9-48a3-c3ae-f998f8075264"
      },
      "outputs": [
        {
          "name": "stdout",
          "output_type": "stream",
          "text": [
            "time: 5min 20s (started: 2022-06-26 04:57:52 +00:00)\n"
          ]
        }
      ],
      "source": [
        "# Write customers_df to table in RDS\n",
        "# 5 min 14 s\n",
        "customers_df.write.jdbc(url=jdbc_url, table='customers_table', mode=mode, properties=config)"
      ]
    },
    {
      "cell_type": "code",
      "execution_count": 17,
      "metadata": {
        "colab": {
          "base_uri": "https://localhost:8080/"
        },
        "id": "qNHU8yPNQFG8",
        "outputId": "d4f40584-182e-4cc0-cabc-cb41b2ffe830"
      },
      "outputs": [
        {
          "name": "stdout",
          "output_type": "stream",
          "text": [
            "time: 17min 2s (started: 2022-06-26 05:03:13 +00:00)\n"
          ]
        }
      ],
      "source": [
        "# Write vine_df to table in RDS\n",
        "# 11 minutes\n",
        "vine_df.write.jdbc(url=jdbc_url, table='vine_table', mode=mode, properties=config)"
      ]
    },
    {
      "cell_type": "code",
      "execution_count": null,
      "metadata": {
        "id": "CbbYqqaITQZn"
      },
      "outputs": [],
      "source": []
    }
  ],
  "metadata": {
    "colab": {
      "name": "Amazon_Vine_Analysis.ipynb",
      "provenance": []
    },
    "kernelspec": {
      "display_name": "Python 3",
      "name": "python3"
    },
    "language_info": {
      "name": "python"
    }
  },
  "nbformat": 4,
  "nbformat_minor": 0
}
